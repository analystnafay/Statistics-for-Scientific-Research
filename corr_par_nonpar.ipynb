{
 "cells": [
  {
   "cell_type": "markdown",
   "metadata": {},
   "source": [
    "# Correlation (Parametric & Non Parametric Statistical test)"
   ]
  },
  {
   "cell_type": "markdown",
   "metadata": {},
   "source": [
    "The strength of the association between two variables is known as correlation test. "
   ]
  },
  {
   "cell_type": "markdown",
   "metadata": {},
   "source": [
    "Methods for correlation analyses: \n",
    "\n",
    "- Parametric Correlation : It measures a linear dependence between two variables (x and y) is known as a parametric correlation test because it depends on the distribution of the data.\n",
    "\n",
    "- Non-Parametric Correlation: Kendall(tau) and Spearman(rho), which are rank-based correlation coefficients, are known as non-parametric correlation."
   ]
  },
  {
   "cell_type": "markdown",
   "metadata": {},
   "source": [
    "### Pearson's Correlation"
   ]
  },
  {
   "cell_type": "markdown",
   "metadata": {},
   "source": [
    "The value of a correlation coefficient can range from -1 to 1, with the following interpretations:\n",
    "\n",
    "-1: a perfect negative relationship between two variables\\\n",
    "0: no relationship between two variables\\\n",
    "1: a perfect positive relationship between two variables"
   ]
  },
  {
   "cell_type": "markdown",
   "metadata": {},
   "source": [
    "Note: \n",
    "\n",
    "- r takes value between -1 (negative correlation) and 1 (positive correlation).\n",
    "- r = 0 means no correlation.\n",
    "- Can not be applied to ordinal variables.\n",
    "- The sample size should be moderate (20-30) for good estimation.\n",
    "- Outliers can lead to misleading values means not robust with outliers."
   ]
  },
  {
   "cell_type": "code",
   "execution_count": 3,
   "metadata": {},
   "outputs": [
    {
     "name": "stdout",
     "output_type": "stream",
     "text": [
      "Pearsons correlation: -0.878\n"
     ]
    }
   ],
   "source": [
    "# Import those libraries\n",
    "import pandas as pd\n",
    "from scipy.stats import pearsonr\n",
    "\n",
    "# Import your data into Python\n",
    "df = pd.read_csv(\"./data/Auto.csv\")\n",
    "\n",
    "# Convert dataframe into series\n",
    "list1 = df['weight']\n",
    "list2 = df['mpg']\n",
    "\n",
    "# Apply the pearsonr()\n",
    "corr, _ = pearsonr(list1, list2)\n",
    "print('Pearsons correlation: %.3f' % corr)\n",
    "\n",
    "# This code is contributed by Amiya Rout\n"
   ]
  },
  {
   "cell_type": "markdown",
   "metadata": {},
   "source": [
    "### Spearman Rank Correlation"
   ]
  },
  {
   "cell_type": "markdown",
   "metadata": {},
   "source": [
    "Spearman Rank Correlation is used to measure the correlation between two ranked variables. (e.g. rank of a student’s math exam score vs. rank of their science exam score in a class)."
   ]
  },
  {
   "cell_type": "code",
   "execution_count": 11,
   "metadata": {},
   "outputs": [
    {
     "name": "stdout",
     "output_type": "stream",
     "text": [
      "Spearmen Rank correlation: -0.418\n"
     ]
    },
    {
     "data": {
      "text/plain": [
       "-0.41818181818181815"
      ]
     },
     "execution_count": 11,
     "metadata": {},
     "output_type": "execute_result"
    }
   ],
   "source": [
    "import pandas as pd\n",
    "from scipy.stats import spearmanr\n",
    "\n",
    "#create DataFrame\n",
    "df = pd.DataFrame({'student': ['A', 'B', 'C', 'D', 'E', 'F', 'G', 'H', 'I', 'J'],\n",
    "                   'math': [70, 78, 90, 87, 84, 86, 91, 74, 83, 85],\n",
    "                   'science': [90, 94, 79, 86, 84, 83, 88, 92, 76, 75]})\n",
    "\n",
    "\n",
    "\n",
    "#calculate Spearman Rank correlation and corresponding p-value\n",
    "rho, p = spearmanr(df['math'], df['science'])\n",
    "\n",
    "#print Spearman rank correlation and p-value\n",
    "print('Spearmen Rank correlation: %.3f' % rho)\n",
    "# print('p-value: %.3f' % p)\n",
    "\n"
   ]
  }
 ],
 "metadata": {
  "kernelspec": {
   "display_name": "scientific_research",
   "language": "python",
   "name": "python3"
  },
  "language_info": {
   "codemirror_mode": {
    "name": "ipython",
    "version": 3
   },
   "file_extension": ".py",
   "mimetype": "text/x-python",
   "name": "python",
   "nbconvert_exporter": "python",
   "pygments_lexer": "ipython3",
   "version": "3.12.0"
  }
 },
 "nbformat": 4,
 "nbformat_minor": 2
}
