{
 "cells": [
  {
   "cell_type": "markdown",
   "metadata": {},
   "source": [
    "# T-test (Parametric Statistical Test)\n",
    "### One Sample T-Test in Python"
   ]
  },
  {
   "cell_type": "markdown",
   "metadata": {},
   "source": [
    ">The one-sample t-test is a statistical hypothesis test that can be used to see if the mean of an unknown population differs from a given or known value."
   ]
  },
  {
   "cell_type": "markdown",
   "metadata": {},
   "source": [
    "#### Describe Hypothesis for t Test\n",
    "\n",
    ">null hypothesis: the mean of the areas is 5000.\\\n",
    ">alternative hypothesis: the mean of the areas is not  5000."
   ]
  },
  {
   "cell_type": "code",
   "execution_count": 2,
   "metadata": {},
   "outputs": [
    {
     "name": "stdout",
     "output_type": "stream",
     "text": [
      "[0.44457628]\n",
      "As the p_value for the given problem is more than 0.05 which is the alpha value, we accept the null hypothesis\n"
     ]
    }
   ],
   "source": [
    "import scipy.stats as stats\n",
    "import pandas as pd\n",
    "  \n",
    "# loading the csv file\n",
    "data = pd.read_csv('./data/areas.csv')\n",
    "\n",
    "t_stat, p = stats.ttest_1samp(a=data, popmean=5000)\n",
    "print(p)\n",
    "if p > 0.05:\n",
    "    print(\"As the p_value for the given problem is more than 0.05 which is the alpha value, we accept the null hypothesis\")\n",
    "else:\n",
    "     print(\"As the p_value for the given problem is not more than 0.05 which is the alpha value, we reject the null hypothesis\")"
   ]
  },
  {
   "cell_type": "markdown",
   "metadata": {},
   "source": [
    "### Two Sample Paired t-Test (Parametric Statistical Test)"
   ]
  },
  {
   "cell_type": "markdown",
   "metadata": {},
   "source": [
    "Assumption of Paired Sample T-test"
   ]
  },
  {
   "cell_type": "markdown",
   "metadata": {},
   "source": [
    "In order for the paired sample t-test results to be trusted, the following assumptions need to be met:\n",
    "\n",
    "- The dependent variable (DV) must be continuous which is measured on an interval or ratio scale\n",
    "- The observations are independent\n",
    "- The DV should be approximately normally distributed\n",
    "- The paired sample t-test is robust to this violation. If there is a violation of normality, as long as it’s not in a major violation the test results can be considered valid\n",
    "- The DV should not contain any significant outliers"
   ]
  },
  {
   "cell_type": "markdown",
   "metadata": {},
   "source": [
    "The hypothesis being test is:\n",
    "\n",
    "- Null hypothesis (H0): ud = 0, which translates to the mean difference between sample 1 and sample 2 is equal to 0.\n",
    "- Alternative hypothesis (HA): ud ≠ 0, which translates to the mean difference between sample 1 and sample 2 is not equal to 0.\n",
    "  \n",
    "If the p-value is less than what is tested at, most commonly 0.05, one can reject the null hypothesis."
   ]
  },
  {
   "cell_type": "markdown",
   "metadata": {},
   "source": [
    ">Case Statemnet:\n",
    ">\n",
    ">Let us consider that we want to know whether an engine oil significantly impacts the car’s mileage of different brands. In order to test this, we have 10 cars in a garage doped with original engine oil initially. We have noted their mileage for 100 kilometers each. Then, we have each of the cars doped with another engine oil (different from the original one). Then, the mileage of the cars is calculated for 100 kilometers each. To compare the difference between the mean mileage of the first and second test, we use a paired samples t-test because for each car their first test score can be paired with their second test score. Conducting paired sample T-test is a step-by-step process."
   ]
  },
  {
   "cell_type": "markdown",
   "metadata": {},
   "source": [
    "We need two arrays to hold pre and post-mileage of the cars."
   ]
  },
  {
   "cell_type": "code",
   "execution_count": 6,
   "metadata": {},
   "outputs": [
    {
     "name": "stdout",
     "output_type": "stream",
     "text": [
      "As two sided p_value for the given problem is not more than 0.05, we reject the null hypothesis which is diff b/w mean of samples is not 0\n"
     ]
    }
   ],
   "source": [
    "import scipy.stats as stats\n",
    "import pandas as pd\n",
    "import numpy as np\n",
    "\n",
    "# pre holds the mileage before applying\n",
    "# the different engine oil\n",
    "pre = [88, 82, 84, 93, 75, 78, 84, 87,\n",
    "       95, 91, 83, 89, 77, 68, 91]\n",
    "  \n",
    "# post holds the mileage before applying \n",
    "# the different engine oil\n",
    "post = [91, 84, 88, 90, 79, 80, 88, 90, \n",
    "        90, 96, 88, 89, 81, 74, 92]\n",
    "\n",
    "# Performing the paired sample t-test\n",
    "t_stat, p = stats.ttest_rel(pre, post)\n",
    "if p > 0.05:\n",
    "    print(\"As two sided p_value for the given problem is more than 0.05, we accept the null hypothesis which is diff b/w mean of samples is 0\")\n",
    "else:\n",
    "     print(\"As two sided p_value for the given problem is not more than 0.05, we reject the null hypothesis which is diff b/w mean of samples is not 0\")\n"
   ]
  },
  {
   "cell_type": "markdown",
   "metadata": {},
   "source": [
    ">Analyzing the output.\n",
    ">\n",
    ">The paired samples t-test follows the null and alternative hypotheses:\n",
    ">\n",
    ">- H0: It signifies that the mean pre-test and post-test scores are equal\n",
    ">- HA: It signifies that the mean pre-test and post-test scores are not equal\n",
    ">\n",
    ">As the p-value comes out to be equal to 0.010 which is less than 0.05 hence we reject the null hypothesis. So, we have enough proof to claim that the true mean test score is different for cars before and after applying the different engine oil."
   ]
  },
  {
   "cell_type": "markdown",
   "metadata": {},
   "source": [
    "### Two Sample UnPaired t-Test (Parametric Statistical Test)"
   ]
  },
  {
   "cell_type": "markdown",
   "metadata": {},
   "source": [
    "The two hypotheses for this particular two sample Unpaired t-test are as follows:\n",
    "\n",
    "- H0: µ1 = µ2 (the two population means are equal)\n",
    "\n",
    "- HA: µ1 ≠µ2 (the two population means are not equal)"
   ]
  },
  {
   "cell_type": "markdown",
   "metadata": {},
   "source": [
    ">NOTE:\\\n",
    ">As a rule of thumb, we can assume the populations have equal variances if the ratio of the larger sample variance to the smaller sample variance is less than 4:1. "
   ]
  },
  {
   "cell_type": "markdown",
   "metadata": {},
   "source": [
    "> Case Statement:\\\n",
    ">Researchers want to know whether or not two different species of plants have the same mean height. To test this, they collect a simple random sample of 20 plants from each species.\n",
    ">\n",
    ">Use the following steps to conduct a two sample t-test to determine if the two species of plants have the same height."
   ]
  },
  {
   "cell_type": "code",
   "execution_count": 8,
   "metadata": {},
   "outputs": [
    {
     "name": "stdout",
     "output_type": "stream",
     "text": [
      "by the thumb rule, We assumed that the variances are equal\n"
     ]
    }
   ],
   "source": [
    "import numpy as np\n",
    "import scipy.stats as stats\n",
    "\n",
    "group1 = np.array([14, 15, 15, 16, 13, 8, 14, 17, 16, 14, 19, 20, 21, 15, 15, 16, 16, 13, 14, 12])\n",
    "group2 = np.array([15, 17, 14, 17, 14, 8, 12, 19, 19, 14, 17, 22, 24, 16, 13, 16, 13, 18, 15, 13])\n",
    "\n",
    "#find variance for each group\n",
    "g1_var, g2_var = round(np.var(group1),2), round(np.var(group2),2)\n",
    "var_ratio=g2_var/g1_var\n",
    "if var_ratio < 4:\n",
    "    print(\"by the thumb rule, We assumed that the variances are equal\")\n",
    "else:\n",
    "     print(\"by the thumb rule, We assumed that the variances are not equal\")\n"
   ]
  },
  {
   "cell_type": "code",
   "execution_count": 10,
   "metadata": {},
   "outputs": [
    {
     "name": "stdout",
     "output_type": "stream",
     "text": [
      "The p-value is  0.53 (No Significance)\n"
     ]
    }
   ],
   "source": [
    "#perform two sample t-test with equal variances\n",
    "stat, p = stats.ttest_ind(a=group1, b=group2, equal_var=True)\n",
    "def get_significance(p):\n",
    "    \"\"\"Returns the significance of a p-values as a string of stars.\"\"\"\n",
    "    if p <= 0.001:\n",
    "        return '***'\n",
    "    elif p <= 0.01:\n",
    "        return '**'\n",
    "    elif p <= 0.05:\n",
    "        return '*'\n",
    "    elif p <= 0.1:\n",
    "        return '.'\n",
    "    else:\n",
    "        return 'No Significance'\n",
    "\n",
    "\n",
    "def round_p_value(p):\n",
    "    \"\"\"Round a small p-value so that it is human-readable.\"\"\"\n",
    "    if p < 0.001:\n",
    "        return '<0.001'\n",
    "    else:\n",
    "        return f'{p:5.3}'\n",
    "\n",
    "\n",
    "p_rounded = round_p_value(p)\n",
    "significance = get_significance(p)\n",
    "print(f'The p-value is {p_rounded} ({significance})')"
   ]
  },
  {
   "cell_type": "markdown",
   "metadata": {},
   "source": [
    ">p-value of our test (0.53005) is greater than alpha = 0.05, we fail to reject the null hypothesis of the test. We do not have sufficient evidence to say that the mean height of plants between the two populations is different."
   ]
  },
  {
   "cell_type": "markdown",
   "metadata": {},
   "source": [
    "When we want to compare the means of two independent groups, we can choose between using two different tests:\n",
    "\n",
    "- Student’s t-test: this test assumes that both groups of data are sampled from populations that follow a normal distribution and that both populations have the same variance.\n",
    "\n",
    "- Welch’s t-test: this test assumes that both groups of data are sampled from populations that follow a normal distribution, but it does not assume that those two populations have the same variance."
   ]
  }
 ],
 "metadata": {
  "kernelspec": {
   "display_name": "scientific_research",
   "language": "python",
   "name": "python3"
  },
  "language_info": {
   "codemirror_mode": {
    "name": "ipython",
    "version": 3
   },
   "file_extension": ".py",
   "mimetype": "text/x-python",
   "name": "python",
   "nbconvert_exporter": "python",
   "pygments_lexer": "ipython3",
   "version": "3.12.0"
  }
 },
 "nbformat": 4,
 "nbformat_minor": 2
}
