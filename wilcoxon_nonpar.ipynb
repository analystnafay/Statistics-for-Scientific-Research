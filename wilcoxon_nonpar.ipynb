{
 "cells": [
  {
   "cell_type": "markdown",
   "metadata": {},
   "source": [
    "# One Sample Wilcoxon Non Parametric Hypothesis Test"
   ]
  },
  {
   "cell_type": "markdown",
   "metadata": {},
   "source": [
    "non parametric hypothesis test is a rank-based test and it compares the standard value (theoretical value) with the hypothesized median\\\n",
    "\n",
    "\n",
    "\n",
    "\n",
    "### Hypothesis of 1 sample Wilcoxon Signed test\n",
    "\n",
    "Left-tailed test:\n",
    "\n",
    "- Null Hypothesis H0: The population median (η) is greater than or equal to hypothesized median(η0)- η≥ η0\n",
    "- Alternative Hypothesis : H1: The population median(η) is less than the hypothesized median(η0) – η<η0\n",
    "\n",
    "Right-tailed test:\n",
    "\n",
    "- Null Hypothesis H0: The population median (η) is less than or equal to hypothesized median(η0)- η≤η0\n",
    "- Alternative Hypothesis : H1: The population median(η) is greater than the hypothesized median(η0)- η>η0\n",
    "\n",
    "Two-tailed test:\n",
    "\n",
    "- Null Hypothesis H0: The population median (η) is equal to hypothesized median(η0)- η=η0\n",
    "- Alternative Hypothesis : H1: The population median(η) is not equal to the hypothesized median(η0)- η≠η0\n"
   ]
  },
  {
   "cell_type": "markdown",
   "metadata": {},
   "source": [
    "### Assumptions of the one sample Wilcoxon test"
   ]
  },
  {
   "cell_type": "markdown",
   "metadata": {},
   "source": [
    "- Differences between the data value and the hypothesized median are continuous\n",
    "- Data follows the symmetric distribution\n",
    "- Observations are mutually independent of each other\n",
    "- Measurement scale is at least an interval"
   ]
  },
  {
   "cell_type": "markdown",
   "metadata": {},
   "source": [
    "---"
   ]
  },
  {
   "cell_type": "markdown",
   "metadata": {},
   "source": [
    "## Example 1 - Manual (Understanding One Sample Wilcoxon test)"
   ]
  },
  {
   "cell_type": "markdown",
   "metadata": {},
   "source": [
    "random samples of 10 students’ marks are noted below, is there evidence at the 5% confidence level to suggest that the median mark is greater than 67?"
   ]
  },
  {
   "cell_type": "markdown",
   "metadata": {},
   "source": [
    "![sample](./Images/sample_wilcoxon1.png)"
   ]
  },
  {
   "cell_type": "markdown",
   "metadata": {},
   "source": [
    "Right tailed Hypothesis:\n",
    "\n",
    "- Null Hypothesis H0: The population median value ≤ 67 marks\n",
    "- Alternative Hypothesis : H1: The population median value > 67 marks"
   ]
  },
  {
   "cell_type": "markdown",
   "metadata": {},
   "source": [
    "NOTE\n",
    ">Ignoring the signs, rank the differences smallest rank =1"
   ]
  },
  {
   "cell_type": "markdown",
   "metadata": {},
   "source": [
    "![sample](./Images/sample_wilcoxon2.png)"
   ]
  },
  {
   "cell_type": "markdown",
   "metadata": {},
   "source": [
    "Separate the positive and negative ranks\n",
    "\n",
    "- Sum of + ranks =40\n",
    "- Sum of – ranks=15\n",
    "- Smallest value among 40 & 15 =15\n",
    "- Test statistics =15\n",
    "- Critical value =11"
   ]
  },
  {
   "cell_type": "markdown",
   "metadata": {},
   "source": [
    "Criteria:\n",
    ">The null hypothesis will be rejected if the test statistic, W, is less than or equal to the critical value."
   ]
  },
  {
   "cell_type": "markdown",
   "metadata": {},
   "source": [
    "![sample](./Images/sample_wilcoxon4.png)"
   ]
  },
  {
   "cell_type": "markdown",
   "metadata": {},
   "source": [
    "Conclusion:\n",
    ">Since the test statistic value is greater than the critical value, hence we fail to reject the null hypothesis. There is no significant evidence that the median rank is greater than 67."
   ]
  },
  {
   "cell_type": "markdown",
   "metadata": {},
   "source": [
    "---"
   ]
  },
  {
   "cell_type": "markdown",
   "metadata": {},
   "source": [
    "## Example 2 Python\n",
    "\n",
    "a small sample of 21 numbers: 4, 5, 6, 5, 3, 4, 2, 7, 6, 5, 4, 3, 8, 8, 9, 4, 6, 7, 2, 5, 6. Null hypothesis, median equals 5; alternative, it doesn't. Alpha is 0.05 and not null differences (between sample elements and hypothetical median) are 17."
   ]
  },
  {
   "cell_type": "code",
   "execution_count": 2,
   "metadata": {},
   "outputs": [
    {
     "name": "stdout",
     "output_type": "stream",
     "text": [
      "W = 68.0, p-value = 0.683\n"
     ]
    }
   ],
   "source": [
    "import numpy as np\n",
    "from scipy.stats import wilcoxon as wil\n",
    "\n",
    "sample = [4, 5, 6, 5, 3, 4, 2, 7, 6, 5, 4, 3, 8, 8, 9, 4, 6, 7, 2, 5, 6]\n",
    "sample = np.array(sample)\n",
    "med0 = 5 # median of the sample\n",
    "\n",
    "W, p = wil(sample - med0, correction = False, mode = 'approx')\n",
    "\n",
    "print(\"W = %.1f, p-value = %.3f\" % (W, p))"
   ]
  },
  {
   "cell_type": "markdown",
   "metadata": {},
   "source": [
    "Conclusion \n",
    "\n",
    ">get 68 for W- and 85 for W+. According to my notes, I have to choose the minimum of both, so 68, and it might be bigger than the critical value from the table, W17,0.05, which it seems to be 41."
   ]
  },
  {
   "cell_type": "markdown",
   "metadata": {},
   "source": [
    "---"
   ]
  },
  {
   "cell_type": "markdown",
   "metadata": {},
   "source": [
    "# Wilcoxon Signed-Rank Test in Python"
   ]
  },
  {
   "cell_type": "markdown",
   "metadata": {},
   "source": [
    "The Wilcoxon Signed-Rank Test is the non-parametric version of the paired samples t-test.\n",
    "\n",
    "It is used to test whether or not there is a significant difference between two population means when the distribution of the differences between the two samples cannot be assumed to be normal."
   ]
  },
  {
   "cell_type": "markdown",
   "metadata": {},
   "source": [
    "## Example 1"
   ]
  },
  {
   "cell_type": "markdown",
   "metadata": {},
   "source": [
    "Case Statement\n",
    ">\n",
    ">Researchers want to know if a new fuel treatment leads to a change in the average mpg of a certain car. To test this, they measure the mpg of 12 cars with and without the fuel treatment.\n",
    ">\n",
    ">Use the following steps to perform a Wilcoxon Signed-Rank Test in Python to determine if there is a difference in the mean mpg between the two groups.\n"
   ]
  },
  {
   "cell_type": "code",
   "execution_count": 5,
   "metadata": {},
   "outputs": [
    {
     "name": "stdout",
     "output_type": "stream",
     "text": [
      "W = 68.0, p-value = 0.044\n"
     ]
    }
   ],
   "source": [
    "import scipy.stats as stats\n",
    "\n",
    "group1 = [20, 23, 21, 25, 18, 17, 18, 24, 20, 24, 23, 19]\n",
    "group2 = [24, 25, 21, 22, 23, 18, 17, 28, 24, 27, 21, 23]\n",
    "\n",
    "\n",
    "\n",
    "#perform the Wilcoxon-Signed Rank Test\n",
    "w, p = stats.wilcoxon(group1, group2, correction=False)\n",
    "print(\"W = %.1f, p-value = %.3f\" % (W, p))"
   ]
  },
  {
   "cell_type": "markdown",
   "metadata": {},
   "source": [
    "Findings\n",
    ">The test statistic is 10.5 and the corresponding two-sided p-value is 0.044.\n",
    "\n",
    "Results Interpretation\n",
    ">\n",
    ">In this example, the Wilcoxon Signed-Rank Test uses the following null and alternative hypotheses:\n",
    ">\n",
    ">- H0: The mpg is equal between the two groups\n",
    ">\n",
    ">- HA: The mpg is not equal between the two groups\n",
    ">\n",
    "Since the p-value (0.044) is less than 0.05, we reject the null hypothesis. We have sufficient evidence to say that the true mean mpg is not equal between the two groups."
   ]
  }
 ],
 "metadata": {
  "kernelspec": {
   "display_name": "scientific_research",
   "language": "python",
   "name": "python3"
  },
  "language_info": {
   "codemirror_mode": {
    "name": "ipython",
    "version": 3
   },
   "file_extension": ".py",
   "mimetype": "text/x-python",
   "name": "python",
   "nbconvert_exporter": "python",
   "pygments_lexer": "ipython3",
   "version": "3.12.0"
  }
 },
 "nbformat": 4,
 "nbformat_minor": 2
}
