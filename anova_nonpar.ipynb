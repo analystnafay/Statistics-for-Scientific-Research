{
 "cells": [
  {
   "cell_type": "markdown",
   "metadata": {},
   "source": [
    "# ANOVA (Analysis of Varience)"
   ]
  },
  {
   "cell_type": "markdown",
   "metadata": {},
   "source": [
    "### One way ANOVA"
   ]
  },
  {
   "cell_type": "markdown",
   "metadata": {},
   "source": [
    "A one-way ANOVA uses the following null and alternative hypotheses:\n",
    "\n",
    "- H0 (null hypothesis): μ1 = μ2 = μ3 = … = μk (all the population means are equal)\n",
    "- H1 (null hypothesis): at least one population mean is different from the rest"
   ]
  },
  {
   "cell_type": "markdown",
   "metadata": {},
   "source": [
    ">Case Statemnet\n",
    ">\n",
    ">A researcher recruits 30 students to participate in a study. The students are randomly assigned to use one of three studying techniques for the next three weeks to >prepare for an exam. At the end of the three weeks, all of the students take the same test. "
   ]
  },
  {
   "cell_type": "code",
   "execution_count": 6,
   "metadata": {},
   "outputs": [
    {
     "name": "stdout",
     "output_type": "stream",
     "text": [
      "stats 2.358\n",
      "p 0.114\n",
      "As the p_value is more than 0.05, we accept the null hypothesis\n"
     ]
    }
   ],
   "source": [
    "from scipy.stats import f_oneway\n",
    "\n",
    "#enter exam scores for each group\n",
    "group1 = [85, 86, 88, 75, 78, 94, 98, 79, 71, 80]\n",
    "group2 = [91, 92, 93, 85, 87, 84, 82, 88, 95, 96]\n",
    "group3 = [79, 78, 88, 94, 92, 85, 83, 85, 82, 81]\n",
    "\n",
    "\n",
    "\n",
    "#perform one-way ANOVA\n",
    "stats, p=f_oneway(group1, group2, group3)\n",
    "stats=round(stats, 3)\n",
    "p=round(p, 3)\n",
    "print('stats '+str(stats))\n",
    "print('p '+str(p))\n",
    "if p > 0.05:\n",
    "    print(\"As the p_value is more than 0.05, we accept the null hypothesis\")\n",
    "else:\n",
    "     print(\"As the p_value is less than 0.05 , we reject the null hypothesis\")\n"
   ]
  },
  {
   "cell_type": "markdown",
   "metadata": {},
   "source": [
    "NOTE\n",
    ">This means we do not have sufficient evidence to say that there is a difference in exam scores among the three studying techniques."
   ]
  },
  {
   "cell_type": "markdown",
   "metadata": {},
   "source": [
    "### Two way ANOVA"
   ]
  },
  {
   "cell_type": "markdown",
   "metadata": {},
   "source": [
    "#### A two-way ANOVA is used to determine whether or not there is a statistically significant difference between the means of three or more independent groups that have been split on two factors."
   ]
  },
  {
   "cell_type": "markdown",
   "metadata": {},
   "source": [
    "Case Statement\n",
    ">\n",
    ">A botanist wants to know whether or not plant growth is influenced by sunlight exposure and watering frequency. She plants 30 seeds and lets them grow for two months under different conditions for sunlight exposure and watering frequency. After two months, she records the height of each plant, in inches.\n",
    ">two-way ANOVA to determine if watering frequency and sunlight exposure have a significant effect on plant growth, and to determine if there is any interaction effect between watering frequency and sunlight exposure.\n",
    ">\n",
    "> - water: how frequently each plant was watered: daily or weekly\n",
    "> - sun: how much sunlight exposure each plant received: low, medium, or high\n",
    "> - height: the height of each plant (in inches) after two months"
   ]
  },
  {
   "cell_type": "code",
   "execution_count": 7,
   "metadata": {},
   "outputs": [
    {
     "data": {
      "text/html": [
       "<div>\n",
       "<style scoped>\n",
       "    .dataframe tbody tr th:only-of-type {\n",
       "        vertical-align: middle;\n",
       "    }\n",
       "\n",
       "    .dataframe tbody tr th {\n",
       "        vertical-align: top;\n",
       "    }\n",
       "\n",
       "    .dataframe thead th {\n",
       "        text-align: right;\n",
       "    }\n",
       "</style>\n",
       "<table border=\"1\" class=\"dataframe\">\n",
       "  <thead>\n",
       "    <tr style=\"text-align: right;\">\n",
       "      <th></th>\n",
       "      <th>sum_sq</th>\n",
       "      <th>df</th>\n",
       "      <th>F</th>\n",
       "      <th>PR(&gt;F)</th>\n",
       "    </tr>\n",
       "  </thead>\n",
       "  <tbody>\n",
       "    <tr>\n",
       "      <th>C(water)</th>\n",
       "      <td>8.533333</td>\n",
       "      <td>1.0</td>\n",
       "      <td>16.0000</td>\n",
       "      <td>0.000527</td>\n",
       "    </tr>\n",
       "    <tr>\n",
       "      <th>C(sun)</th>\n",
       "      <td>24.866667</td>\n",
       "      <td>2.0</td>\n",
       "      <td>23.3125</td>\n",
       "      <td>0.000002</td>\n",
       "    </tr>\n",
       "    <tr>\n",
       "      <th>C(water):C(sun)</th>\n",
       "      <td>2.466667</td>\n",
       "      <td>2.0</td>\n",
       "      <td>2.3125</td>\n",
       "      <td>0.120667</td>\n",
       "    </tr>\n",
       "    <tr>\n",
       "      <th>Residual</th>\n",
       "      <td>12.800000</td>\n",
       "      <td>24.0</td>\n",
       "      <td>NaN</td>\n",
       "      <td>NaN</td>\n",
       "    </tr>\n",
       "  </tbody>\n",
       "</table>\n",
       "</div>"
      ],
      "text/plain": [
       "                    sum_sq    df        F    PR(>F)\n",
       "C(water)          8.533333   1.0  16.0000  0.000527\n",
       "C(sun)           24.866667   2.0  23.3125  0.000002\n",
       "C(water):C(sun)   2.466667   2.0   2.3125  0.120667\n",
       "Residual         12.800000  24.0      NaN       NaN"
      ]
     },
     "execution_count": 7,
     "metadata": {},
     "output_type": "execute_result"
    }
   ],
   "source": [
    "import numpy as np\n",
    "import pandas as pd\n",
    "import statsmodels.api as sm\n",
    "from statsmodels.formula.api import ols\n",
    "\n",
    "#create data\n",
    "df = pd.DataFrame({'water': np.repeat(['daily', 'weekly'], 15),\n",
    "                   'sun': np.tile(np.repeat(['low', 'med', 'high'], 5), 2),\n",
    "                   'height': [6, 6, 6, 5, 6, 5, 5, 6, 4, 5,\n",
    "                              6, 6, 7, 8, 7, 3, 4, 4, 4, 5,\n",
    "                              4, 4, 4, 4, 4, 5, 6, 6, 7, 8]})\n",
    "\n",
    "#view first ten rows of data \n",
    "df.head(10)\n",
    "\n",
    "\n",
    "#perform two-way ANOVA\n",
    "model = ols('height ~ C(water) + C(sun) + C(water):C(sun)', data=df).fit()\n",
    "sm.stats.anova_lm(model, typ=2)"
   ]
  },
  {
   "cell_type": "markdown",
   "metadata": {},
   "source": [
    "Results  interpretation\n",
    ">\n",
    ">Since the p-values for water and sun are both less than .05, this means that both factors have a statistically significant effect on plant height.\n",
    ">\n",
    ">And since the p-value for the interaction effect (.120667) is not less than .05, this tells us that there is no significant interaction effect between sunlight >exposure and watering frequency.\n",
    "- we would need to perform post-hoc tests to determine exactly how different levels of water and sunlight affect plant height."
   ]
  },
  {
   "cell_type": "markdown",
   "metadata": {},
   "source": [
    "## Post Hoc Tests (Two way ANOVA )"
   ]
  },
  {
   "cell_type": "markdown",
   "metadata": {},
   "source": [
    ">**Technical Note:** It’s important to note that we only need to conduct a post hoc test when the p-value for the ANOVA is statistically significant. If the p-value is not statistically significant, this indicates that the means for all of the groups are not different from each other, so there is no need to conduct a post hoc test to find out which groups are different from each other."
   ]
  },
  {
   "cell_type": "markdown",
   "metadata": {},
   "source": [
    "### Repeated Measures ANOVA"
   ]
  },
  {
   "cell_type": "markdown",
   "metadata": {},
   "source": [
    "A repeated measures ANOVA is used to determine whether or not there is a statistically significant difference between the means of three or more groups in which the same subjects show up in each group."
   ]
  },
  {
   "cell_type": "markdown",
   "metadata": {},
   "source": [
    "A repeated measures ANOVA uses the following null and alternative hypotheses:\n",
    "\n",
    "- The null hypothesis (H0): µ1 = µ2 = µ3 (the population means are all equal)\n",
    "\n",
    "- The alternative hypothesis: (Ha): at least one population mean is different from the rest"
   ]
  },
  {
   "cell_type": "markdown",
   "metadata": {},
   "source": [
    "#### Assumption for Repeated measures of ANOVA:\n",
    "\n",
    "1. Independence: Each of the observations should be independent.\n",
    "\n",
    "2. Normality: The distribution of the response variable is normally distributed.\n",
    "\n",
    "3. Sphericity: The variances of the differences between all combinations of related groups must be equal."
   ]
  },
  {
   "cell_type": "markdown",
   "metadata": {},
   "source": [
    "### One way Repeated Measures ANOVA"
   ]
  },
  {
   "cell_type": "markdown",
   "metadata": {},
   "source": [
    "Case Statement\n",
    ">\n",
    ">Researchers want to know if four different drugs lead to different reaction times. To test this, they measure the reaction time of five patients on the four different drugs.\n",
    ">\n",
    ">Since each patient is measured on each of the four drugs, we will use a repeated measures ANOVA to determine if the mean reaction time differs between drugs."
   ]
  },
  {
   "cell_type": "code",
   "execution_count": 9,
   "metadata": {},
   "outputs": [
    {
     "name": "stdout",
     "output_type": "stream",
     "text": [
      "              Anova\n",
      "==================================\n",
      "     F Value Num DF  Den DF Pr > F\n",
      "----------------------------------\n",
      "drug 24.7589 3.0000 12.0000 0.0000\n",
      "==================================\n",
      "\n"
     ]
    }
   ],
   "source": [
    "import numpy as np\n",
    "import pandas as pd\n",
    "from statsmodels.stats.anova import AnovaRM\n",
    "\n",
    "#create data\n",
    "df = pd.DataFrame({'patient': np.repeat([1, 2, 3, 4, 5], 4),\n",
    "                   'drug': np.tile([1, 2, 3, 4], 5),\n",
    "                   'response': [30, 28, 16, 34,\n",
    "                                14, 18, 10, 22,\n",
    "                                24, 20, 18, 30,\n",
    "                                38, 34, 20, 44, \n",
    "                                26, 28, 14, 30]})\n",
    "\n",
    "#view first ten rows of data \n",
    "df.head(10)\n",
    "\n",
    "#perform the repeated measures ANOVA\n",
    "print(AnovaRM(data=df, depvar='response', subject='patient', within=['drug']).fit())\n"
   ]
  },
  {
   "cell_type": "markdown",
   "metadata": {},
   "source": [
    "Results Interpretation\n",
    ">\n",
    ">F test-statistic is 24.7589 and the corresponding p-value is 0.0000.\n",
    ">\n",
    ">Since this p-value is less than 0.05, we reject the null hypothesis and conclude that there is a statistically significant difference in mean response times between the four drugs."
   ]
  },
  {
   "cell_type": "markdown",
   "metadata": {},
   "source": [
    "#### What to Do if this Assumption is Violated\n",
    "\n",
    "If we reject the null hypothesis of Mauchly’s test of sphericity, then we typically apply a correction to the degrees of freedom used to calculate the F-value in the repeated measures ANOVA table.\n",
    "\n",
    "There are three corrections we can apply:\n",
    "\n",
    "- Huynh-Feldt (least conservative)\n",
    "- Greenhouse–Geisser\n",
    "- Lower-bound (most conservative)\n",
    "\n",
    "Each of these corrections tend to increase the p-values in the output table of the repeated measures ANOVA to account for the fact that the assumption of sphericity is violated.\n",
    "\n",
    "We can then use these p-values to determine if we should reject or fail to reject the null hypothesis of the repeated measures ANOVA."
   ]
  }
 ],
 "metadata": {
  "kernelspec": {
   "display_name": "scientific_research",
   "language": "python",
   "name": "python3"
  },
  "language_info": {
   "codemirror_mode": {
    "name": "ipython",
    "version": 3
   },
   "file_extension": ".py",
   "mimetype": "text/x-python",
   "name": "python",
   "nbconvert_exporter": "python",
   "pygments_lexer": "ipython3",
   "version": "3.12.0"
  }
 },
 "nbformat": 4,
 "nbformat_minor": 2
}
