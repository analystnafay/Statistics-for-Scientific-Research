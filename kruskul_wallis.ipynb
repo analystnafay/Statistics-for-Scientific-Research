{
 "cells": [
  {
   "cell_type": "markdown",
   "metadata": {},
   "source": [
    "# Kruskal-Wallis Test"
   ]
  },
  {
   "cell_type": "markdown",
   "metadata": {},
   "source": [
    "A Kruskal-Wallis Test is used to determine whether or not there is a statistically significant difference between the medians of three or more independent groups.\n",
    "\n",
    "It is considered to be the non-parametric equivalent of the One-Way ANOVA."
   ]
  },
  {
   "cell_type": "markdown",
   "metadata": {},
   "source": [
    "Case Statement\n",
    ">\n",
    ">Researchers want to know if three different fertilizers lead to different levels of plant growth. They randomly select 30 different plants and split them into three groups of 10, applying a different fertilizer to each group. At the end of one month they measure the height of each plant.\n",
    ">\n",
    ">Use the following steps to perform a Kruskal-Wallis Test to determine if the median growth is the same across the three groups."
   ]
  },
  {
   "cell_type": "code",
   "execution_count": 1,
   "metadata": {},
   "outputs": [
    {
     "name": "stdout",
     "output_type": "stream",
     "text": [
      "H Statistic: 6.287801578353988\n",
      "P-Value: 0.043114289703508814\n",
      "We reject the null hypothesis. type of fertilizer used leads to statistically significant differences in plant growth.\n"
     ]
    }
   ],
   "source": [
    "from scipy import stats\n",
    "\n",
    "group1 = [7, 14, 14, 13, 12, 9, 6, 14, 12, 8]\n",
    "group2 = [15, 17, 13, 15, 15, 13, 9, 12, 10, 8]\n",
    "group3 = [6, 8, 8, 9, 5, 14, 13, 8, 10, 9]\n",
    "\n",
    "# Perform the Kruskal-Wallis H Test\n",
    "h_statistic, p_value = stats.kruskal(group1, group2, group3)\n",
    " \n",
    "# Output the results\n",
    "print(f\"H Statistic: {h_statistic}\")\n",
    "print(f\"P-Value: {p_value}\")\n",
    " \n",
    "# Evaluate the hypothesis\n",
    "alpha = 0.05\n",
    "if p_value < alpha:\n",
    "    print(\"We reject the null hypothesis. type of fertilizer used leads to statistically significant differences in plant growth.\")\n",
    "else:\n",
    "    print(\"We fail to reject the null hypothesis. that the median plant growth is the same for all three fertilizers\")\n"
   ]
  },
  {
   "cell_type": "markdown",
   "metadata": {},
   "source": [
    "Results Interpretation-\n",
    "\n",
    ">The Kruskal-Wallis Test uses the following null and alternative hypotheses:\n",
    ">\n",
    ">- The null hypothesis (H0): The median is equal across all groups.\n",
    ">\n",
    ">- The alternative hypothesis: (Ha): The median is not equal across all groups.\n",
    ">\n",
    ">In this case, the test statistic is 6.2878 and the corresponding p-value is 0.0431. Since this p-value is less than 0.05, we can reject the null hypothesis that the median plant growth is the same for all three fertilizers. We have sufficient evidence to conclude that the type of fertilizer used leads to statistically significant differences in plant growth."
   ]
  }
 ],
 "metadata": {
  "kernelspec": {
   "display_name": "scientific_research",
   "language": "python",
   "name": "python3"
  },
  "language_info": {
   "codemirror_mode": {
    "name": "ipython",
    "version": 3
   },
   "file_extension": ".py",
   "mimetype": "text/x-python",
   "name": "python",
   "nbconvert_exporter": "python",
   "pygments_lexer": "ipython3",
   "version": "3.12.0"
  }
 },
 "nbformat": 4,
 "nbformat_minor": 2
}
