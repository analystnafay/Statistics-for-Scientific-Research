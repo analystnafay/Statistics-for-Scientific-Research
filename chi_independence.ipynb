{
 "cells": [
  {
   "cell_type": "markdown",
   "metadata": {},
   "source": [
    "# Chi Square Test\n",
    "## Chi Square Independence Test \n",
    "#### \"used to determine whether or not there is a significant association between two categorical variables"
   ]
  },
  {
   "cell_type": "markdown",
   "metadata": {},
   "source": [
    ">Chi-Square Test of Independence uses the following null and alternative hypotheses:\n",
    ">\n",
    ">- H0: (null hypothesis) The two variables are independent.\n",
    ">- H1: (alternative hypothesis) The two variables are not independent.\n",
    ">\n",
    ">Degrees of freedom: (calculated as #rows-1 * #columns-1)"
   ]
  },
  {
   "cell_type": "markdown",
   "metadata": {},
   "source": [
    "Criteria\n",
    ">if p-value greater than or equal to 0.05 is not statistically significant and suggests strong support for the null hypothesis and alternative hypothesis is rejected."
   ]
  },
  {
   "cell_type": "markdown",
   "metadata": {},
   "source": [
    "### Example 1"
   ]
  },
  {
   "cell_type": "markdown",
   "metadata": {},
   "source": [
    "![data](./Images/chi_ind_data1.png)"
   ]
  },
  {
   "cell_type": "code",
   "execution_count": 12,
   "metadata": {},
   "outputs": [
    {
     "name": "stdout",
     "output_type": "stream",
     "text": [
      "chi_square_test_statistic is : 0.8640353908896108\n",
      "p_value : 0.65\n",
      "degree of freedom : 2\n",
      "expected array : [[115.   92.5  42.5]\n",
      " [115.   92.5  42.5]]\n"
     ]
    }
   ],
   "source": [
    "#importing packages\n",
    "import numpy as np\n",
    "import scipy.stats as stats\n",
    "\n",
    "#creating above data in python code\n",
    "data = [[120, 90, 40],\n",
    "        [110, 95, 45]]\n",
    "\n",
    "#perform the Chi-Square Test of Independence\n",
    "# chi_square_statistic, p_value,*_ = stats.chi2_contingency(data)\n",
    "result = stats.chi2_contingency(data)\n",
    "chi_square_statistic = result[0]\n",
    "p_value = result[1]\n",
    "dof = result[2]\n",
    "expected = np.array(result[3])\n",
    "\n",
    "\n",
    "# chi square test statistic and p value\n",
    "print('chi_square_test_statistic is : ' + str(chi_square_statistic))\n",
    "print('p_value : ' + str(round(p_value,2)))\n",
    "print('degree of freedom : ' + str(dof))\n",
    "print('expected array : ' + str(expected))\n"
   ]
  },
  {
   "cell_type": "markdown",
   "metadata": {},
   "source": [
    "NOTE:\n",
    ">H0: (The two variables are independent) is accepted because p_value : 0.6491978887380976 is greater then alpha value: 0.05, expected values for data can be find through chi square independence test showed above"
   ]
  },
  {
   "cell_type": "markdown",
   "metadata": {},
   "source": [
    "### Example 2"
   ]
  },
  {
   "cell_type": "markdown",
   "metadata": {},
   "source": [
    "![data](./Images/chi_ind_data2.png)"
   ]
  },
  {
   "cell_type": "code",
   "execution_count": 13,
   "metadata": {},
   "outputs": [
    {
     "name": "stdout",
     "output_type": "stream",
     "text": [
      "χ² = 1.643, p = 0.65, degrees of freedom = 3\n",
      "[[ 77.119 120.708 212.676  68.497]\n",
      " [ 83.881 131.292 231.324  74.503]]\n"
     ]
    }
   ],
   "source": [
    "import pandas as pd\n",
    "import scipy.stats as stats\n",
    "import numpy as np\n",
    "\n",
    "# Create a contingency table (also known as a cross tabulation)\n",
    "dct = {\n",
    "    'Gryffindor': [79, 82],\n",
    "    'Hufflepuff': [122, 130],\n",
    "    'Ravenclaw': [204, 240],\n",
    "    'Slytherin': [74, 69],\n",
    "}\n",
    "crosstab = pd.DataFrame(dct, index=['No', 'Yes'])\n",
    "# print(crosstab)\n",
    "\n",
    "#perform the Chi-Square Test of Independence\n",
    "chi2, pval, dof, expected = stats.chi2_contingency(crosstab)\n",
    "\n",
    "print(f'χ² = {chi2:.3f}, p = {pval:.2f}, degrees of freedom = {dof}')\n",
    "print(expected)"
   ]
  },
  {
   "cell_type": "markdown",
   "metadata": {},
   "source": [
    "NOTE:\n",
    ">H0: (The two variables are independent) is accepted because p_value : 0.6491978887380976 is greater then alpha value: 0.05, expected values for data can be find through chi square independence test showed above"
   ]
  }
 ],
 "metadata": {
  "kernelspec": {
   "display_name": "scientific_research",
   "language": "python",
   "name": "python3"
  },
  "language_info": {
   "codemirror_mode": {
    "name": "ipython",
    "version": 3
   },
   "file_extension": ".py",
   "mimetype": "text/x-python",
   "name": "python",
   "nbconvert_exporter": "python",
   "pygments_lexer": "ipython3",
   "version": "3.12.0"
  }
 },
 "nbformat": 4,
 "nbformat_minor": 2
}
