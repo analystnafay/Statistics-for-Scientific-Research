{
 "cells": [
  {
   "cell_type": "markdown",
   "metadata": {},
   "source": [
    "# Chi Square Test\n",
    "## Chi Square Homogeneity Test \n",
    "#### \"Multiple groups surveyed but one thing is measured: one independent variable and one dependent variable\""
   ]
  },
  {
   "cell_type": "markdown",
   "metadata": {},
   "source": [
    "The homogeneity test is that same as the independence test in practice (ie the way it is calculated in Python is the same) but it is different conceptually:\n",
    "\n",
    "- In a chi-squared independence test there is one group of people (ie one sample of the population) surveyed and two things are measured: no independent variable and two dependent variables\n",
    "- In a chi-squared homogeneity test there are multiple groups surveyed but one thing is measured: one independent variable and one dependent variable\n",
    "Because there is no mathematical difference between different types of variables, the calculation looks the same."
   ]
  },
  {
   "cell_type": "markdown",
   "metadata": {},
   "source": [
    "### Example 1"
   ]
  },
  {
   "cell_type": "code",
   "execution_count": 2,
   "metadata": {},
   "outputs": [
    {
     "name": "stdout",
     "output_type": "stream",
     "text": [
      "χ² = 5.900, p = 0.052\n"
     ]
    }
   ],
   "source": [
    "#importing packages\n",
    "import numpy as np\n",
    "import scipy.stats as stats\n",
    "\n",
    "#Collate the observed data\n",
    "observed = np.array(\n",
    "    [\n",
    "        [25, 146, 124],\n",
    "        [2, 23, 7]\n",
    "    ]\n",
    ")\n",
    "# Calculate totals\n",
    "row_totals = np.array([np.sum(observed, axis=1)])\n",
    "col_totals = np.array([np.sum(observed, axis=0)])\n",
    "n = np.sum(observed)\n",
    "# Calculate the expected observations\n",
    "expected = np.dot(row_totals.T, col_totals) / n\n",
    "\n",
    "#print(np.round(expected, 1))\n",
    "\n",
    "# Calculate the chi-square test statistic\n",
    "chisq, p_value = stats.chisquare(observed, expected)\n",
    "# Sum the answers\n",
    "chisq = np.sum(chisq)\n",
    "# Degrees of freedom\n",
    "rows = observed.shape[0]\n",
    "cols = observed.shape[1]\n",
    "dof = (rows - 1) * (cols - 1)\n",
    "# Convert chi-square test statistic to p-value\n",
    "p_value = 1 - stats.chi2.cdf(chisq, dof)\n",
    "\n",
    "print(f'χ² = {chisq:.3f}, p = {p_value:.3f}')"
   ]
  },
  {
   "cell_type": "markdown",
   "metadata": {},
   "source": [
    "NOTE:\n",
    ">H0: (One Independent & One Dependent are homogenious) is accepted because p_value : 0.052 is greater then alpha value: 0.05, expected values for data can be find through chi square Homogenious test showed above, by convention the conclusion is that the difference is due to sampling error"
   ]
  }
 ],
 "metadata": {
  "kernelspec": {
   "display_name": "scientific_research",
   "language": "python",
   "name": "python3"
  },
  "language_info": {
   "codemirror_mode": {
    "name": "ipython",
    "version": 3
   },
   "file_extension": ".py",
   "mimetype": "text/x-python",
   "name": "python",
   "nbconvert_exporter": "python",
   "pygments_lexer": "ipython3",
   "version": "3.12.0"
  }
 },
 "nbformat": 4,
 "nbformat_minor": 2
}
