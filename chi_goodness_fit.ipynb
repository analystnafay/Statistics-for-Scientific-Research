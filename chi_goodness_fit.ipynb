{
 "cells": [
  {
   "cell_type": "markdown",
   "metadata": {},
   "source": [
    "#  Chi-Squared Test"
   ]
  },
  {
   "cell_type": "markdown",
   "metadata": {},
   "source": [
    "## Goodness-of-Fit Test\n",
    "#### “does my distribution of numbers come from the distribution I expect?”"
   ]
  },
  {
   "cell_type": "markdown",
   "metadata": {},
   "source": [
    ">The null and alternative hypotheses for a Chi-Square Goodness of Fit Test are as follows:\n",
    ">\n",
    ">- H0: variable is from the expected distribution\n",
    ">- H1: A variable differs from the expected distribution"
   ]
  },
  {
   "cell_type": "markdown",
   "metadata": {},
   "source": [
    "Criteria\n",
    ">if chi_square_ value > critical value, the null hypothesis is rejected. if chi_square_ value <= critical value, the null hypothesis is accepted.\\\n",
    ">\n",
    ">if p-value greater than or equal to 0.05 is not statistically significant and suggests strong support for the null hypothesis and alternative hypothesis is rejected."
   ]
  },
  {
   "cell_type": "code",
   "execution_count": 11,
   "metadata": {},
   "outputs": [
    {
     "name": "stdout",
     "output_type": "stream",
     "text": [
      "chi_square_test_statistic is : 5.01\n",
      "p_value : 0.54\n",
      "Critical Value: 12.59\n",
      "chi square value determined by formula : 5.0127344877344875\n"
     ]
    }
   ],
   "source": [
    "# importing packages\n",
    "import scipy.stats as stats\n",
    "import numpy as np\n",
    "\n",
    "# no of hours a student studies\n",
    "# in a week vs expected no of hours\n",
    "observed_data = [8, 6, 10, 7, 8, 11, 9]\n",
    "expected_data = [9, 8, 11, 8, 10, 7, 6]\n",
    "\n",
    "\n",
    "\n",
    "# Chi-Square Goodness of Fit Test\n",
    "chi_square_test_statistic, p_value = stats.chisquare(\n",
    "\tobserved_data, expected_data)\n",
    "\n",
    "# Round the chi square test statistic and p value\n",
    "chi_square_test_statistic=round(chi_square_test_statistic,2)\n",
    "p_value=round(p_value,2)\n",
    "\n",
    "# chi square test statistic and p value\n",
    "print('chi_square_test_statistic is : ' +\n",
    "\tstr(chi_square_test_statistic))\n",
    "print('p_value : ' + str(round(p_value,2)))\n",
    "\n",
    "# find Chi-Square critical value\n",
    "critical_value = round(stats.chi2.ppf(1 - 0.05, df=6),2)\n",
    "print('Critical Value: ' + str(critical_value))\n",
    "\n",
    "# chi square calculation with formula\n",
    "chi_square_test_statistic1 = 0\n",
    "for i in range(len(observed_data)):\n",
    "    chi_square_test_statistic1 = chi_square_test_statistic1 + \\\n",
    "        (np.square(observed_data[i]-expected_data[i]))/expected_data[i]\n",
    "  \n",
    "  \n",
    "print('chi square value determined by formula : ' +\n",
    "      str(chi_square_test_statistic1))\n"
   ]
  },
  {
   "cell_type": "markdown",
   "metadata": {},
   "source": [
    "NOTE:\n",
    ">H0: (variable is from the expected distribution) is accepted because p_value : 0.542180861413329 hence p-value greater than or equal to 0.05 is not statistically significant and suggests strong support for the null hypothesis. This signifies that the null hypothesis is kept and the alternative hypothesis is rejected. There is 54% chance\n",
    ">\n",
    ">chi square test statistic(5.01) <= critical value(12.59), This also signifies that the null hypothesis is kept and the alternative hypothesis is rejected."
   ]
  }
 ],
 "metadata": {
  "kernelspec": {
   "display_name": "scientific_research",
   "language": "python",
   "name": "python3"
  },
  "language_info": {
   "codemirror_mode": {
    "name": "ipython",
    "version": 3
   },
   "file_extension": ".py",
   "mimetype": "text/x-python",
   "name": "python",
   "nbconvert_exporter": "python",
   "pygments_lexer": "ipython3",
   "version": "3.12.0"
  }
 },
 "nbformat": 4,
 "nbformat_minor": 2
}
